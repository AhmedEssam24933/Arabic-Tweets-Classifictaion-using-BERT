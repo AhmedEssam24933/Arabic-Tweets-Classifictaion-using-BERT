{
 "cells": [
  {
   "cell_type": "code",
   "execution_count": 1,
   "id": "7fa65e3e",
   "metadata": {},
   "outputs": [],
   "source": [
    "import torch\n",
    "from transformers import AutoTokenizer, AutoModelForSequenceClassification, pipeline"
   ]
  },
  {
   "cell_type": "code",
   "execution_count": 2,
   "id": "74f28d3c",
   "metadata": {},
   "outputs": [],
   "source": [
    "# Load the local model and tokenizer\n",
    "local_model_name = r\"E:\\New folder (3)\\arabic_dataset_classification\\model\"\n",
    "model = AutoModelForSequenceClassification.from_pretrained(local_model_name)\n",
    "tokenizer = AutoTokenizer.from_pretrained(local_model_name)"
   ]
  },
  {
   "cell_type": "code",
   "execution_count": 3,
   "id": "d456bec2",
   "metadata": {},
   "outputs": [],
   "source": [
    "def convert_sentiment_label(label):\n",
    "    label_names = {\n",
    "        0: 'فن',\n",
    "        1: 'قضاء',\n",
    "        2: 'اقتصادي',\n",
    "        3: 'سياسي',\n",
    "        4: 'رياضي',\n",
    "    }\n",
    "\n",
    "    return label_names[label]"
   ]
  },
  {
   "cell_type": "code",
   "execution_count": 4,
   "id": "78004d57",
   "metadata": {},
   "outputs": [
    {
     "name": "stdout",
     "output_type": "stream",
     "text": [
      "اقتصادي\n"
     ]
    }
   ],
   "source": [
    "# Sentence to evaluate\n",
    "sentence = \"وأضافت الشركة، أن العديد من الشركات قد تقدمت بطلبات لرغبتها فى الاشتراك فى المزايدة وطلبوا مد فترة المزايدة حتى تتمكن الشركات من شراء مستندات الطرح وحزم البيانات لتقييم مناطق المزايدة وتقديم العروض الفنية والمالية لمنطقة أو أكثر من مناطق المزايدة\"\n",
    "\n",
    "# Tokenize and prepare the input for the model\n",
    "inputs = tokenizer(sentence, return_tensors='pt')\n",
    "\n",
    "# Forward pass through the model\n",
    "with torch.no_grad():\n",
    "    outputs = model(**inputs)\n",
    "\n",
    "# Get the predicted label\n",
    "predicted_label = torch.argmax(outputs.logits).item()\n",
    "\n",
    "result = convert_sentiment_label(predicted_label)\n",
    "print(result)"
   ]
  },
  {
   "cell_type": "code",
   "execution_count": 5,
   "id": "e658391d",
   "metadata": {},
   "outputs": [
    {
     "name": "stdout",
     "output_type": "stream",
     "text": [
      "سياسي\n"
     ]
    }
   ],
   "source": [
    "# Sentence to evaluate\n",
    "sentence = \"وأشار أبو الفتوح، إلى أن الرئيس السيسي لا تتوقف جهوده الدبلوماسية والمحورية من أجل ضمان نفاذ المساعدات الإغاثية بالكميات والأحجام والسرعة اللازمة التي تحدث فارق حقيقي في التخفيف من معاناة أهالي القطاع\"\n",
    "\n",
    "# Tokenize and prepare the input for the model\n",
    "inputs = tokenizer(sentence, return_tensors='pt')\n",
    "\n",
    "# Forward pass through the model\n",
    "with torch.no_grad():\n",
    "    outputs = model(**inputs)\n",
    "\n",
    "# Get the predicted label\n",
    "predicted_label = torch.argmax(outputs.logits).item()\n",
    "\n",
    "result = convert_sentiment_label(predicted_label)\n",
    "print(result)"
   ]
  },
  {
   "cell_type": "code",
   "execution_count": 6,
   "id": "c0a565c7",
   "metadata": {},
   "outputs": [
    {
     "name": "stdout",
     "output_type": "stream",
     "text": [
      "رياضي\n"
     ]
    }
   ],
   "source": [
    "# Sentence to evaluate\n",
    "sentence = \"انتهى الشوط الأول من مباراة الجونة أمام البنك الأهلي بتقدم الأخير بهدف نظيف في المباراة التي تجمعهما اليوم الأربعاء على استاد خالد بشارة ضمن منافسات الجولة الأولى لبطولة كأس الرابطة المصرية المحترفة.\"\n",
    "\n",
    "# Tokenize and prepare the input for the model\n",
    "inputs = tokenizer(sentence, return_tensors='pt')\n",
    "\n",
    "# Forward pass through the model\n",
    "with torch.no_grad():\n",
    "    outputs = model(**inputs)\n",
    "\n",
    "# Get the predicted label\n",
    "predicted_label = torch.argmax(outputs.logits).item()\n",
    "\n",
    "result = convert_sentiment_label(predicted_label)\n",
    "print(result)"
   ]
  },
  {
   "cell_type": "code",
   "execution_count": 7,
   "id": "6f528ec7",
   "metadata": {},
   "outputs": [
    {
     "name": "stdout",
     "output_type": "stream",
     "text": [
      "قضاء\n"
     ]
    }
   ],
   "source": [
    "# Sentence to evaluate\n",
    "sentence = \"ألقت الأجهزة الأمنية بمديرية أمن الجيزة، القبض على صاحب سلسلة صيدليات شهيرة مطلوب جنائيا لتنفيذ أحكام قضائية مسجلة ضده حال تواجده بمنطقة الدقي.\"\n",
    "\n",
    "# Tokenize and prepare the input for the model\n",
    "inputs = tokenizer(sentence, return_tensors='pt')\n",
    "\n",
    "# Forward pass through the model\n",
    "with torch.no_grad():\n",
    "    outputs = model(**inputs)\n",
    "\n",
    "# Get the predicted label\n",
    "predicted_label = torch.argmax(outputs.logits).item()\n",
    "\n",
    "result = convert_sentiment_label(predicted_label)\n",
    "print(result)"
   ]
  },
  {
   "cell_type": "code",
   "execution_count": 8,
   "id": "048ac582",
   "metadata": {},
   "outputs": [
    {
     "name": "stdout",
     "output_type": "stream",
     "text": [
      "فن\n"
     ]
    }
   ],
   "source": [
    "# Sentence to evaluate\n",
    "sentence = \"أثارت الفنانة مى فاروق حالة من الجدل الواسع فور إعلان خبر خطوبتها من الفنان محمد العمروسى حيث احتفلا مع عدد من الأصدقاء والمقربين.\"\n",
    "\n",
    "# Tokenize and prepare the input for the model\n",
    "inputs = tokenizer(sentence, return_tensors='pt')\n",
    "\n",
    "# Forward pass through the model\n",
    "with torch.no_grad():\n",
    "    outputs = model(**inputs)\n",
    "\n",
    "# Get the predicted label\n",
    "predicted_label = torch.argmax(outputs.logits).item()\n",
    "\n",
    "result = convert_sentiment_label(predicted_label)\n",
    "print(result)"
   ]
  }
 ],
 "metadata": {
  "kernelspec": {
   "display_name": "Python 3 (ipykernel)",
   "language": "python",
   "name": "python3"
  },
  "language_info": {
   "codemirror_mode": {
    "name": "ipython",
    "version": 3
   },
   "file_extension": ".py",
   "mimetype": "text/x-python",
   "name": "python",
   "nbconvert_exporter": "python",
   "pygments_lexer": "ipython3",
   "version": "3.11.5"
  }
 },
 "nbformat": 4,
 "nbformat_minor": 5
}
